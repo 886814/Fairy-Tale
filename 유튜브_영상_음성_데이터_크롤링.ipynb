{
  "nbformat": 4,
  "nbformat_minor": 0,
  "metadata": {
    "colab": {
      "name": "유튜브 영상 음성 데이터 크롤링.ipynb",
      "provenance": [],
      "collapsed_sections": [],
      "include_colab_link": true
    },
    "kernelspec": {
      "name": "python3",
      "display_name": "Python 3"
    },
    "language_info": {
      "name": "python"
    }
  },
  "cells": [
    {
      "cell_type": "markdown",
      "metadata": {
        "id": "view-in-github",
        "colab_type": "text"
      },
      "source": [
        "<a href=\"https://colab.research.google.com/github/886814/Fairy-Tale/blob/main/%EC%9C%A0%ED%8A%9C%EB%B8%8C_%EC%98%81%EC%83%81_%EC%9D%8C%EC%84%B1_%EB%8D%B0%EC%9D%B4%ED%84%B0_%ED%81%AC%EB%A1%A4%EB%A7%81.ipynb\" target=\"_parent\"><img src=\"https://colab.research.google.com/assets/colab-badge.svg\" alt=\"Open In Colab\"/></a>"
      ]
    },
    {
      "cell_type": "code",
      "execution_count": null,
      "metadata": {
        "colab": {
          "base_uri": "https://localhost:8080/"
        },
        "id": "W-e5IzU9f3dk",
        "outputId": "fa002425-9738-4704-81fb-1315a4d83c0c"
      },
      "outputs": [
        {
          "output_type": "stream",
          "name": "stdout",
          "text": [
            "Collecting pytube\n",
            "  Downloading pytube-12.1.0-py3-none-any.whl (56 kB)\n",
            "\u001b[?25l\r\u001b[K     |█████▉                          | 10 kB 30.8 MB/s eta 0:00:01\r\u001b[K     |███████████▋                    | 20 kB 27.2 MB/s eta 0:00:01\r\u001b[K     |█████████████████▍              | 30 kB 18.7 MB/s eta 0:00:01\r\u001b[K     |███████████████████████▏        | 40 kB 15.7 MB/s eta 0:00:01\r\u001b[K     |█████████████████████████████   | 51 kB 8.9 MB/s eta 0:00:01\r\u001b[K     |████████████████████████████████| 56 kB 4.1 MB/s \n",
            "\u001b[?25hInstalling collected packages: pytube\n",
            "Successfully installed pytube-12.1.0\n"
          ]
        }
      ],
      "source": [
        "!pip install pytube"
      ]
    },
    {
      "cell_type": "code",
      "source": [
        "from pytube import YouTube\n",
        "# 특정영상 다운로드\n",
        "YouTube('https://www.youtube.com/watch?v=mJfrwP4wufM').streams.first().download('/content/drive/MyDrive/음성 크롤링')"
      ],
      "metadata": {
        "colab": {
          "base_uri": "https://localhost:8080/",
          "height": 35
        },
        "id": "p71sWqOtgCD3",
        "outputId": "1988bb0d-a0e8-49f7-af54-4425404ac755"
      },
      "execution_count": null,
      "outputs": [
        {
          "output_type": "execute_result",
          "data": {
            "text/plain": [
              "'/content/drive/MyDrive/음성 크롤링/뽀로로 NEW1  6화 꾀병 부리지 말아요  에디가 부린 꾀병은 !  뽀로로 1기 고화질.3gpp'"
            ],
            "application/vnd.google.colaboratory.intrinsic+json": {
              "type": "string"
            }
          },
          "metadata": {},
          "execution_count": 5
        }
      ]
    },
    {
      "cell_type": "code",
      "source": [
        "from pytube import Playlist\n",
        "pl = Playlist(\"https://www.youtube.com/playlist?list=PLawdY97HdndTKmyOYzKKcyh9o78-j1FKR\")\n",
        "pl.download_all() #파이썬 파일과 같은 위치\n",
        "\n",
        "pl.download_all('./video') #저장위치"
      ],
      "metadata": {
        "colab": {
          "base_uri": "https://localhost:8080/",
          "height": 248
        },
        "id": "QnCO39PuiK3m",
        "outputId": "9f5ed368-2665-47a2-fb46-0d0bdaff4ca9"
      },
      "execution_count": null,
      "outputs": [
        {
          "output_type": "error",
          "ename": "AttributeError",
          "evalue": "ignored",
          "traceback": [
            "\u001b[0;31m---------------------------------------------------------------------------\u001b[0m",
            "\u001b[0;31mAttributeError\u001b[0m                            Traceback (most recent call last)",
            "\u001b[0;32m<ipython-input-2-587255e807ba>\u001b[0m in \u001b[0;36m<module>\u001b[0;34m()\u001b[0m\n\u001b[1;32m      1\u001b[0m \u001b[0;32mfrom\u001b[0m \u001b[0mpytube\u001b[0m \u001b[0;32mimport\u001b[0m \u001b[0mPlaylist\u001b[0m\u001b[0;34m\u001b[0m\u001b[0;34m\u001b[0m\u001b[0m\n\u001b[1;32m      2\u001b[0m \u001b[0mpl\u001b[0m \u001b[0;34m=\u001b[0m \u001b[0mPlaylist\u001b[0m\u001b[0;34m(\u001b[0m\u001b[0;34m\"https://www.youtube.com/playlist?list=PLawdY97HdndTKmyOYzKKcyh9o78-j1FKR\"\u001b[0m\u001b[0;34m)\u001b[0m\u001b[0;34m\u001b[0m\u001b[0;34m\u001b[0m\u001b[0m\n\u001b[0;32m----> 3\u001b[0;31m \u001b[0mpl\u001b[0m\u001b[0;34m.\u001b[0m\u001b[0mdownload_all\u001b[0m\u001b[0;34m(\u001b[0m\u001b[0;34m)\u001b[0m \u001b[0;31m#파이썬 파일과 같은 위치\u001b[0m\u001b[0;34m\u001b[0m\u001b[0;34m\u001b[0m\u001b[0m\n\u001b[0m\u001b[1;32m      4\u001b[0m \u001b[0;34m\u001b[0m\u001b[0m\n\u001b[1;32m      5\u001b[0m \u001b[0mpl\u001b[0m\u001b[0;34m.\u001b[0m\u001b[0mdownload_all\u001b[0m\u001b[0;34m(\u001b[0m\u001b[0;34m'./video'\u001b[0m\u001b[0;34m)\u001b[0m \u001b[0;31m#저장위치\u001b[0m\u001b[0;34m\u001b[0m\u001b[0;34m\u001b[0m\u001b[0m\n",
            "\u001b[0;31mAttributeError\u001b[0m: 'Playlist' object has no attribute 'download_all'"
          ]
        }
      ]
    },
    {
      "cell_type": "code",
      "source": [
        "from pytube import YouTube\n",
        "\n",
        "#유튜브 전용 인스턴스 생성\n",
        "yt = YouTube('https://www.youtube.com/watch?v=...')\n",
        "\n",
        "print(yt.streams.filter(only_audio=True).all())\n",
        "\n",
        "# 특정영상 다운로드\n",
        "yt.streams.filter(only_audio=True).first().download()\n",
        "\n",
        "print('success')"
      ],
      "metadata": {
        "id": "9DNUuRLaiMLN"
      },
      "execution_count": null,
      "outputs": []
    },
    {
      "cell_type": "code",
      "source": [
        "from pytube import YouTube\n",
        "import glob\n",
        "import os.path\n",
        "\n",
        "#유튜브 전용 인스턴스 생성\n",
        "par = \"https://www.youtube.com/watch?v=isUudT58Xfk\"\n",
        "yt = YouTube(par)\n",
        "yt.streams.filter(only_audio=True).all()\n",
        "\n",
        "# 특정영상 다운로드\n",
        "yt.streams.filter(only_audio=True).first().download()\n",
        "print('success')\n",
        "\n",
        "# 확장자 변경\n",
        "files = glob.glob(\"*.mp4\")\n",
        "for x in files:\n",
        "\tif not os.path.isdir(x):\n",
        "\t\tfilename = os.path.splitext(x)\n",
        "\t\ttry:\n",
        "\t\t\tos.rename(x,filename[0] + '.mp3')\n",
        "\t\texcept:\n",
        "\t\t\tpass"
      ],
      "metadata": {
        "id": "Hjf5M9R5iNvc"
      },
      "execution_count": null,
      "outputs": []
    },
    {
      "cell_type": "code",
      "source": [
        "# call lib\n",
        "from tkinter import *\n",
        "from tkinter import messagebox\n",
        "from pytube import YouTube\n",
        "import glob\n",
        "import os.path\n",
        "\n",
        "# set\n",
        "root = Tk()\n",
        "root.title(\"converter\")\n",
        "root.geometry(\"500x300\")\n",
        "root.resizable(False, False)\n",
        "\n",
        "#convert\n",
        "def convert():\n",
        "\t#유튜브 전용 인스턴스 생성\n",
        "\tpar = lnk.get()\n",
        "\tprint(par)\n",
        "\n",
        "\tyt = YouTube(par)\n",
        "\n",
        "\tprint(\"start!\")\n",
        "\tif(Radiovar.get() == 1):\n",
        "\t\tprint(\"type: mp4\")\n",
        "\t\tyt.streams.filter().all()\n",
        "\t\tyt.streams.filter().first().download() \n",
        "\telse:\n",
        "\t\tprint(\"type: mp3\")\n",
        "\t\tyt.streams.filter(only_audio=True).all()\n",
        "\t\tyt.streams.filter(only_audio=True).first().download() \n",
        "\t\tprint(\"success\")\n",
        "\n",
        "\t\tfiles = glob.glob(\"*.mp4\")\n",
        "\t\tfor x in files:\n",
        "\t\t\tif not os.path.isdir(x):\n",
        "\t\t\t\tfilename = os.path.splitext(x)\n",
        "\t\t\t\ttry:\n",
        "\t\t\t\t\tos.rename(x,filename[0] + '.mp3')\n",
        "\t\t\t\texcept:\n",
        "\t\t\t\t\tpass\n",
        "\tmessagebox.showinfo(\"success\",\"converted!\") #메시지 박스를 띄운다.\n",
        "\n",
        "\n",
        "#main\n",
        "lbl = Label(root, text=\"YouTube Converter!\")\n",
        "lbl.pack()\n",
        "\n",
        "lnk = Entry(root)\n",
        "lnk.pack(fill=\"x\")\n",
        "\n",
        "st = StringVar() \n",
        "Radiovar = IntVar() \n",
        "Radio_button1 = Radiobutton(text=\"mp4\",variable=Radiovar,value=1) \n",
        "Radio_button2 = Radiobutton(text=\"mp3(=default)\",variable=Radiovar,value=2)\n",
        "Radio_button1.pack()\n",
        "Radio_button2.pack()\n",
        "\n",
        "place = Label(root, text=\"\\n\")\n",
        "place.pack()\n",
        "\n",
        "btn = Button(root, text=\"convert\",command=convert)\n",
        "btn.pack()\n",
        "root.mainloop()"
      ],
      "metadata": {
        "id": "IHNLFD8PiPxH"
      },
      "execution_count": null,
      "outputs": []
    }
  ]
}